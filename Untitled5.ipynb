{
  "nbformat": 4,
  "nbformat_minor": 0,
  "metadata": {
    "colab": {
      "provenance": [],
      "authorship_tag": "ABX9TyPkMyBoR4iW9KZFoSUekQgA",
      "include_colab_link": true
    },
    "kernelspec": {
      "name": "python3",
      "display_name": "Python 3"
    },
    "language_info": {
      "name": "python"
    }
  },
  "cells": [
    {
      "cell_type": "markdown",
      "metadata": {
        "id": "view-in-github",
        "colab_type": "text"
      },
      "source": [
        "<a href=\"https://colab.research.google.com/github/Kishore2o/mdp-representation/blob/main/Untitled5.ipynb\" target=\"_parent\"><img src=\"https://colab.research.google.com/assets/colab-badge.svg\" alt=\"Open In Colab\"/></a>"
      ]
    },
    {
      "cell_type": "code",
      "execution_count": 1,
      "metadata": {
        "id": "-mcvCHbdu6Op"
      },
      "outputs": [],
      "source": [
        "p = {\n",
        "    0:{\n",
        "        1:[(0.6,1,0.0,False),(0.4,0,0.0,False)],\n",
        "        0:[(0.6,0,0.0,False),(0.4,1,0.0,False)]\n",
        "    },\n",
        "    1:{\n",
        "        1:[(0.6,2,0.0,False),(0.4,0,0.0,False)],\n",
        "        0:[(0.6,0,0.0,False),(0.4,2,0.0,False)]\n",
        "    },\n",
        "    2:{\n",
        "        #lef\n",
        "        2:[(0.6,1,0.0,False),(0.4,2,0.0,False)],\n",
        "        #righ\n",
        "        1:[(0.6,4,1,True),(0.4,2,0.0,False)],\n",
        "        #up\n",
        "        0:[(0.6,3,0.0,True),(0.4,2,0.0,False)]\n",
        "    },\n",
        "    3:{\n",
        "        1:[(0.6,2,0.0,False),(0.4,3,0.0,False)],\n",
        "        0:[(0.6,3,0.0,True),(0.4,2,0.0,False)]\n",
        "\n",
        "    },\n",
        "    4:{\n",
        "        1:[(0.6,4,1,True),(0.4,2,0.0,False)],\n",
        "        0:[(0.6,2,0.0,False),(0.4,4,1,True)]\n",
        "    }\n",
        "}"
      ]
    },
    {
      "cell_type": "code",
      "source": [
        "p"
      ],
      "metadata": {
        "colab": {
          "base_uri": "https://localhost:8080/"
        },
        "id": "MgwUr4BmvEn-",
        "outputId": "e70a087d-7552-43ad-cde6-710c5d06df42"
      },
      "execution_count": 2,
      "outputs": [
        {
          "output_type": "execute_result",
          "data": {
            "text/plain": [
              "{0: {1: [(0.6, 1, 0.0, False), (0.4, 0, 0.0, False)],\n",
              "  0: [(0.6, 0, 0.0, False), (0.4, 1, 0.0, False)]},\n",
              " 1: {1: [(0.6, 2, 0.0, False), (0.4, 0, 0.0, False)],\n",
              "  0: [(0.6, 0, 0.0, False), (0.4, 2, 0.0, False)]},\n",
              " 2: {2: [(0.6, 1, 0.0, False), (0.4, 2, 0.0, False)],\n",
              "  1: [(0.6, 4, 1, True), (0.4, 2, 0.0, False)],\n",
              "  0: [(0.6, 3, 0.0, True), (0.4, 2, 0.0, False)]},\n",
              " 3: {1: [(0.6, 2, 0.0, False), (0.4, 3, 0.0, False)],\n",
              "  0: [(0.6, 3, 0.0, True), (0.4, 2, 0.0, False)]},\n",
              " 4: {1: [(0.6, 4, 1, True), (0.4, 2, 0.0, False)],\n",
              "  0: [(0.6, 2, 0.0, False), (0.4, 4, 1, True)]}}"
            ]
          },
          "metadata": {},
          "execution_count": 2
        }
      ]
    }
  ]
}